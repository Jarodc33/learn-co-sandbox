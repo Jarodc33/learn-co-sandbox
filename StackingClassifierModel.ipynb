{
 "cells": [
  {
   "cell_type": "code",
   "execution_count": 115,
   "metadata": {},
   "outputs": [],
   "source": [
    "from sklearn.datasets import load_breast_cancer\n",
    "\n",
    "from sklearn.model_selection import train_test_split\n",
    "\n",
    "from sklearn.ensemble import StackingClassifier, RandomForestClassifier\n",
    "from sklearn.neighbors import KNeighborsClassifier\n",
    "from sklearn.linear_model import LogisticRegression\n",
    "\n",
    "from sklearn.metrics import accuracy_score, recall_score, precision_score, f1_score\n",
    "\n",
    "import pandas as pd"
   ]
  },
  {
   "cell_type": "code",
   "execution_count": 169,
   "metadata": {},
   "outputs": [],
   "source": [
    "data  = load_breast_cancer()\n",
    "X = pd.DataFrame(data['data'], columns = data['feature_names'])\n",
    "y = data['target']\n",
    "X_train, X_test, y_train, y_test = train_test_split(X, y)"
   ]
  },
  {
   "cell_type": "code",
   "execution_count": 170,
   "metadata": {},
   "outputs": [],
   "source": [
    "estimators = [('knn', KNeighborsClassifier(n_neighbors = 10)), ('rf', RandomForestClassifier(n_estimators = 100))]\n",
    "stack = StackingClassifier(estimators = estimators, final_estimator = LogisticRegression(), cv = 5)\n",
    "\n",
    "stack.fit(X_train, y_train)\n",
    "\n",
    "knn = stack.estimators_[0]\n",
    "rf = stack.estimators_[1]"
   ]
  },
  {
   "cell_type": "code",
   "execution_count": 172,
   "metadata": {},
   "outputs": [
    {
     "name": "stdout",
     "output_type": "stream",
     "text": [
      "Check score on train to see for overfitting\n",
      "knn: 0.9272300469483568\n",
      "rf: 1.0\n",
      "stack: 0.9976525821596244\n"
     ]
    }
   ],
   "source": [
    "print('Check score on train to see for overfitting')\n",
    "print('knn: ' + str(knn.score(X_train, y_train)))\n",
    "print('rf: ' + str(rf.score(X_train, y_train)))\n",
    "print('stack: ' + str(stack.score(X_train, y_train)))"
   ]
  },
  {
   "cell_type": "code",
   "execution_count": null,
   "metadata": {},
   "outputs": [],
   "source": [
    "y_knn_pred = knn.predict(X_test)\n",
    "y_rf_pred = rf.predict(X_test)\n",
    "y_stack_pred = stack.predict(X_test);"
   ]
  },
  {
   "cell_type": "code",
   "execution_count": 173,
   "metadata": {},
   "outputs": [
    {
     "name": "stdout",
     "output_type": "stream",
     "text": [
      "knn\n",
      "accuracy_score: 0.972027972027972\n",
      "precision_score: 0.9647058823529412\n",
      "recall_score: 0.9879518072289156\n",
      "f1_score: 0.9761904761904762\n",
      "\n",
      "rf\n",
      "accuracy_score: 0.951048951048951\n",
      "precision_score: 0.9318181818181818\n",
      "recall_score: 0.9879518072289156\n",
      "f1_score: 0.9590643274853801\n",
      "\n",
      "stack\n",
      "accuracy_score: 0.9790209790209791\n",
      "precision_score: 0.9761904761904762\n",
      "recall_score: 0.9879518072289156\n",
      "f1_score: 0.9820359281437125\n",
      "\n"
     ]
    }
   ],
   "source": [
    "for i, j in zip([y_knn_pred, y_rf_pred, y_stack_pred], ['knn', 'rf', 'stack']):\n",
    "    print(j)\n",
    "    print('accuracy_score: ' + str(accuracy_score(y_test, i)))\n",
    "    print('precision_score: ' + str(precision_score(y_test, i)))\n",
    "    print('recall_score: ' + str(recall_score(y_test, i)))\n",
    "    print('f1_score: ' + str(f1_score(y_test, i)))\n",
    "    print() "
   ]
  },
  {
   "cell_type": "code",
   "execution_count": null,
   "metadata": {},
   "outputs": [],
   "source": []
  }
 ],
 "metadata": {
  "kernelspec": {
   "display_name": "Python [conda env:learn-env] *",
   "language": "python",
   "name": "conda-env-learn-env-py"
  },
  "language_info": {
   "codemirror_mode": {
    "name": "ipython",
    "version": 3
   },
   "file_extension": ".py",
   "mimetype": "text/x-python",
   "name": "python",
   "nbconvert_exporter": "python",
   "pygments_lexer": "ipython3",
   "version": "3.6.9"
  }
 },
 "nbformat": 4,
 "nbformat_minor": 4
}
